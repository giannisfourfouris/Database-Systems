{
 "cells": [
  {
   "cell_type": "code",
   "execution_count": 3,
   "metadata": {},
   "outputs": [
    {
     "data": {
      "text/html": [
       "<div>\n",
       "<style scoped>\n",
       "    .dataframe tbody tr th:only-of-type {\n",
       "        vertical-align: middle;\n",
       "    }\n",
       "\n",
       "    .dataframe tbody tr th {\n",
       "        vertical-align: top;\n",
       "    }\n",
       "\n",
       "    .dataframe thead th {\n",
       "        text-align: right;\n",
       "    }\n",
       "</style>\n",
       "<table border=\"1\" class=\"dataframe\">\n",
       "  <thead>\n",
       "    <tr style=\"text-align: right;\">\n",
       "      <th></th>\n",
       "      <th>db_id</th>\n",
       "      <th>table_info</th>\n",
       "      <th>question_original</th>\n",
       "      <th>question_translated_Gpt</th>\n",
       "      <th>question_translated_meltemiUpdated</th>\n",
       "      <th>question_translated_llama3</th>\n",
       "      <th>Yiannis_best_model</th>\n",
       "      <th>question_translated</th>\n",
       "      <th>PANOS_Validation</th>\n",
       "      <th>PANOS_CrossValidation</th>\n",
       "      <th>Yiannis_CrossValidation</th>\n",
       "      <th>final_selection</th>\n",
       "    </tr>\n",
       "  </thead>\n",
       "  <tbody>\n",
       "    <tr>\n",
       "      <th>0</th>\n",
       "      <td>car_1</td>\n",
       "      <td>[['ηπείροι', 'ΑναγνωριστικόΗπείρου'], ['ηπείρο...</td>\n",
       "      <td>How many continents are there?</td>\n",
       "      <td>Πόσοι ηπείροι υπάρχουν;</td>\n",
       "      <td>Πώς ονομάζεται το δεδομένο ερώτημα \"Πόσες ηπεί...</td>\n",
       "      <td>Πόσες ηπείροι υπάρχουν;</td>\n",
       "      <td>Gpt/Llama3</td>\n",
       "      <td>NaN</td>\n",
       "      <td>Gpt/Llama3</td>\n",
       "      <td>ΟΚ</td>\n",
       "      <td>NaN</td>\n",
       "      <td>Gpt/Llama3</td>\n",
       "    </tr>\n",
       "    <tr>\n",
       "      <th>1</th>\n",
       "      <td>car_1</td>\n",
       "      <td>[['ηπείροι', 'ΑναγνωριστικόΗπείρου'], ['ηπείρο...</td>\n",
       "      <td>What is the number of continents?</td>\n",
       "      <td>Ποιός είναι ο αριθμός των ηπείρων;</td>\n",
       "      <td>Ποιος είναι ο αριθμός των ηπείρων; \\n\\nΠώς ονο...</td>\n",
       "      <td>Πώς είναι το αριθμό των ηπείρων;</td>\n",
       "      <td>Gpt</td>\n",
       "      <td>NaN</td>\n",
       "      <td>Gpt</td>\n",
       "      <td>ΟΚ</td>\n",
       "      <td>NaN</td>\n",
       "      <td>Gpt</td>\n",
       "    </tr>\n",
       "    <tr>\n",
       "      <th>2</th>\n",
       "      <td>car_1</td>\n",
       "      <td>[['ηπείροι', 'ΑναγνωριστικόΗπείρου'], ['ηπείρο...</td>\n",
       "      <td>How many countries does each continent have? L...</td>\n",
       "      <td>Πόσες χώρες έχει κάθε ηπείρος; Αναφέρετε το αν...</td>\n",
       "      <td>Ποιος είναι ο αριθμός των χωρών που ανήκουν σε...</td>\n",
       "      <td>Πόσα κράτη κάθε ηπείρου έχει; Σελ. Αναγνωριστι...</td>\n",
       "      <td>Gpt/Meltemi</td>\n",
       "      <td>NaN</td>\n",
       "      <td>Gpt/Meltemi</td>\n",
       "      <td>ΟΚ</td>\n",
       "      <td>NaN</td>\n",
       "      <td>Gpt/Meltemi</td>\n",
       "    </tr>\n",
       "    <tr>\n",
       "      <th>3</th>\n",
       "      <td>car_1</td>\n",
       "      <td>[['ηπείροι', 'ΑναγνωριστικόΗπείρου'], ['ηπείρο...</td>\n",
       "      <td>For each continent, list its id, name, and how...</td>\n",
       "      <td>Για κάθε ήπειρο, αναφέρετε το αναγνωριστικό τη...</td>\n",
       "      <td>Πίνακας: ηπείρους\\nΣτήλες: ΑναγνωριστικόΗπείρο...</td>\n",
       "      <td>Για κάθε ηπειρή, λίστα το id της ηπείρου, όνομ...</td>\n",
       "      <td>Gpt</td>\n",
       "      <td>NaN</td>\n",
       "      <td>Gpt</td>\n",
       "      <td>ΟΚ</td>\n",
       "      <td>NaN</td>\n",
       "      <td>Gpt</td>\n",
       "    </tr>\n",
       "    <tr>\n",
       "      <th>4</th>\n",
       "      <td>car_1</td>\n",
       "      <td>[['ηπείροι', 'ΑναγνωριστικόΗπείρου'], ['ηπείρο...</td>\n",
       "      <td>How many countries are listed?</td>\n",
       "      <td>Πόσες χώρες είναι αναφερόμενες στον πίνακα;</td>\n",
       "      <td>Ποιος είναι ο αριθμός των χωρών που αναφέροντα...</td>\n",
       "      <td>Πόσο χώρες αναφέρονται;</td>\n",
       "      <td>Meltemi/LLame3</td>\n",
       "      <td>NaN</td>\n",
       "      <td>Meltemi/Llama3</td>\n",
       "      <td>ΟΚ</td>\n",
       "      <td>NaN</td>\n",
       "      <td>Meltemi/Llama3</td>\n",
       "    </tr>\n",
       "  </tbody>\n",
       "</table>\n",
       "</div>"
      ],
      "text/plain": [
       "   db_id                                         table_info  \\\n",
       "0  car_1  [['ηπείροι', 'ΑναγνωριστικόΗπείρου'], ['ηπείρο...   \n",
       "1  car_1  [['ηπείροι', 'ΑναγνωριστικόΗπείρου'], ['ηπείρο...   \n",
       "2  car_1  [['ηπείροι', 'ΑναγνωριστικόΗπείρου'], ['ηπείρο...   \n",
       "3  car_1  [['ηπείροι', 'ΑναγνωριστικόΗπείρου'], ['ηπείρο...   \n",
       "4  car_1  [['ηπείροι', 'ΑναγνωριστικόΗπείρου'], ['ηπείρο...   \n",
       "\n",
       "                                   question_original  \\\n",
       "0                     How many continents are there?   \n",
       "1                  What is the number of continents?   \n",
       "2  How many countries does each continent have? L...   \n",
       "3  For each continent, list its id, name, and how...   \n",
       "4                     How many countries are listed?   \n",
       "\n",
       "                             question_translated_Gpt  \\\n",
       "0                            Πόσοι ηπείροι υπάρχουν;   \n",
       "1                 Ποιός είναι ο αριθμός των ηπείρων;   \n",
       "2  Πόσες χώρες έχει κάθε ηπείρος; Αναφέρετε το αν...   \n",
       "3  Για κάθε ήπειρο, αναφέρετε το αναγνωριστικό τη...   \n",
       "4        Πόσες χώρες είναι αναφερόμενες στον πίνακα;   \n",
       "\n",
       "                  question_translated_meltemiUpdated  \\\n",
       "0  Πώς ονομάζεται το δεδομένο ερώτημα \"Πόσες ηπεί...   \n",
       "1  Ποιος είναι ο αριθμός των ηπείρων; \\n\\nΠώς ονο...   \n",
       "2  Ποιος είναι ο αριθμός των χωρών που ανήκουν σε...   \n",
       "3  Πίνακας: ηπείρους\\nΣτήλες: ΑναγνωριστικόΗπείρο...   \n",
       "4  Ποιος είναι ο αριθμός των χωρών που αναφέροντα...   \n",
       "\n",
       "                          question_translated_llama3 Yiannis_best_model  \\\n",
       "0                            Πόσες ηπείροι υπάρχουν;         Gpt/Llama3   \n",
       "1                  Πώς είναι το αριθμό των ηπείρων;                 Gpt   \n",
       "2  Πόσα κράτη κάθε ηπείρου έχει; Σελ. Αναγνωριστι...        Gpt/Meltemi   \n",
       "3  Για κάθε ηπειρή, λίστα το id της ηπείρου, όνομ...                Gpt   \n",
       "4                            Πόσο χώρες αναφέρονται;     Meltemi/LLame3   \n",
       "\n",
       "   question_translated PANOS_Validation PANOS_CrossValidation  \\\n",
       "0                  NaN       Gpt/Llama3                    ΟΚ   \n",
       "1                  NaN              Gpt                    ΟΚ   \n",
       "2                  NaN      Gpt/Meltemi                    ΟΚ   \n",
       "3                  NaN              Gpt                    ΟΚ   \n",
       "4                  NaN   Meltemi/Llama3                    ΟΚ   \n",
       "\n",
       "  Yiannis_CrossValidation final_selection  \n",
       "0                     NaN      Gpt/Llama3  \n",
       "1                     NaN             Gpt  \n",
       "2                     NaN     Gpt/Meltemi  \n",
       "3                     NaN             Gpt  \n",
       "4                     NaN  Meltemi/Llama3  "
      ]
     },
     "execution_count": 3,
     "metadata": {},
     "output_type": "execute_result"
    }
   ],
   "source": [
    "import pandas as pd\n",
    "\n",
    "df = pd.read_excel('Question Translate Evaluation.xlsx')\n",
    "df.head()"
   ]
  },
  {
   "cell_type": "code",
   "execution_count": 5,
   "metadata": {},
   "outputs": [
    {
     "data": {
      "text/plain": [
       "258"
      ]
     },
     "execution_count": 5,
     "metadata": {},
     "output_type": "execute_result"
    }
   ],
   "source": [
    "len(df)"
   ]
  },
  {
   "cell_type": "code",
   "execution_count": 14,
   "metadata": {},
   "outputs": [],
   "source": [
    "dictWithBestModel = {}\n",
    "for value in df['final_selection']:\n",
    "    value = value.lower()\n",
    "    if '/' in value:\n",
    "        value = value.split('/')\n",
    "    else:\n",
    "        value = [value]\n",
    "\n",
    "    for val in value:\n",
    "        if val not in dictWithBestModel.keys():\n",
    "            dictWithBestModel[val] = 1\n",
    "        else:\n",
    "            dictWithBestModel[val] +=1"
   ]
  },
  {
   "cell_type": "code",
   "execution_count": 15,
   "metadata": {},
   "outputs": [
    {
     "data": {
      "text/plain": [
       "{'gpt': 242, 'llama3': 46, 'meltemi': 52, 'no one': 7}"
      ]
     },
     "execution_count": 15,
     "metadata": {},
     "output_type": "execute_result"
    }
   ],
   "source": [
    "dictWithBestModel"
   ]
  },
  {
   "cell_type": "code",
   "execution_count": 20,
   "metadata": {},
   "outputs": [
    {
     "name": "stdout",
     "output_type": "stream",
     "text": [
      "{'gpt': 93.8, 'meltemi': 20.16, 'llama3': 17.83, 'no one': 2.71}\n"
     ]
    }
   ],
   "source": [
    "total  = len(df)\n",
    "percentages =  {key: round((value / total) * 100, 2) for key, value in dictWithBestModel.items()}\n",
    "percentages = dict(sorted(percentages.items(), key=lambda item: item[1], reverse=True))\n",
    "print(percentages)"
   ]
  },
  {
   "cell_type": "code",
   "execution_count": 21,
   "metadata": {},
   "outputs": [
    {
     "name": "stdout",
     "output_type": "stream",
     "text": [
      "{'gpt': 242, 'llama3': 46, 'meltemi': 52, 'no one': 7}\n",
      "{'gpt': 93.8, 'meltemi': 20.16, 'llama3': 17.83, 'no one': 2.71}\n"
     ]
    }
   ],
   "source": [
    "print(dictWithBestModel)\n",
    "print(percentages)"
   ]
  },
  {
   "cell_type": "code",
   "execution_count": null,
   "metadata": {},
   "outputs": [],
   "source": []
  }
 ],
 "metadata": {
  "kernelspec": {
   "display_name": "base",
   "language": "python",
   "name": "python3"
  },
  "language_info": {
   "codemirror_mode": {
    "name": "ipython",
    "version": 3
   },
   "file_extension": ".py",
   "mimetype": "text/x-python",
   "name": "python",
   "nbconvert_exporter": "python",
   "pygments_lexer": "ipython3",
   "version": "3.10.9"
  }
 },
 "nbformat": 4,
 "nbformat_minor": 2
}
