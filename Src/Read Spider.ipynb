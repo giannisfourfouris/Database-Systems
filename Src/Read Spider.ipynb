{
 "cells": [
  {
   "cell_type": "code",
   "execution_count": 1,
   "metadata": {},
   "outputs": [],
   "source": [
    "import json\n",
    "\n",
    "# Function to load JSON data from a file\n",
    "def loadJson(filename):\n",
    "    with open(filename, 'r', encoding='utf-8') as file:\n",
    "        data = json.load(file)\n",
    "    return data"
   ]
  },
  {
   "cell_type": "code",
   "execution_count": 2,
   "metadata": {},
   "outputs": [],
   "source": [
    "import pandas as pd\n",
    "def fetchSpecificColumnForDbId(df, specificDbId, columnName):\n",
    "    # Filter rows based on the specific db_id\n",
    "    filteredDf = df[df['db_id'] == specificDbId]\n",
    "\n",
    "    # Fetch the tableNamesTranslated column from the filtered DataFrame\n",
    "    tableNamesTranslated = filteredDf[columnName]\n",
    "\n",
    "    # Convert the tableNamesTranslated column to a list\n",
    "    tableNamesTranslatedList = tableNamesTranslated.tolist()\n",
    "\n",
    "    return tableNamesTranslatedList"
   ]
  },
  {
   "cell_type": "code",
   "execution_count": 3,
   "metadata": {},
   "outputs": [
    {
     "data": {
      "text/plain": [
       "dict_keys(['db_id', 'query', 'query_toks', 'query_toks_no_value', 'question', 'question_toks', 'sql'])"
      ]
     },
     "execution_count": 3,
     "metadata": {},
     "output_type": "execute_result"
    }
   ],
   "source": [
    "devFileName = r'..\\Spider\\dev.json'\n",
    "devDataset = loadJson(devFileName)\n",
    "devDataset[0].keys()"
   ]
  },
  {
   "cell_type": "code",
   "execution_count": 4,
   "metadata": {},
   "outputs": [
    {
     "data": {
      "text/plain": [
       "dict_keys(['column_names', 'column_names_original', 'column_types', 'db_id', 'foreign_keys', 'primary_keys', 'table_names', 'table_names_original'])"
      ]
     },
     "execution_count": 4,
     "metadata": {},
     "output_type": "execute_result"
    }
   ],
   "source": [
    "tableFileName = r'..\\Spider\\tables.json'\n",
    "tablesData = loadJson(tableFileName)\n",
    "tablesData[0].keys()"
   ]
  },
  {
   "cell_type": "code",
   "execution_count": 5,
   "metadata": {},
   "outputs": [],
   "source": [
    "listWithDbId = []\n",
    "listWithTableNameOriginalPerDbId = []\n",
    "for database in tablesData:\n",
    "    dbId = database['db_id']\n",
    "    tableNamesOriginal = database['table_names_original']\n",
    "    for tableNameOriginal in tableNamesOriginal:\n",
    "        listWithDbId.append(dbId)\n",
    "        listWithTableNameOriginalPerDbId.append(tableNameOriginal)    "
   ]
  },
  {
   "cell_type": "code",
   "execution_count": 6,
   "metadata": {},
   "outputs": [],
   "source": [
    "listWithTranslatedTableName = []\n",
    "for tableName in listWithTableNameOriginalPerDbId:\n",
    "    translatedTableName = 'Hi' # TODO: call the function to translate the tableName\n",
    "    listWithTranslatedTableName.append(translatedTableName)\n",
    "    pass"
   ]
  },
  {
   "cell_type": "code",
   "execution_count": 7,
   "metadata": {},
   "outputs": [
    {
     "name": "stdout",
     "output_type": "stream",
     "text": [
      "DataFrame has been written to Table Translate Evaluation.xlsx successfully.\n"
     ]
    }
   ],
   "source": [
    "import pandas as pd\n",
    "\n",
    "# Creating a DataFrame\n",
    "tablesDf = pd.DataFrame({\n",
    "    'db_id': listWithDbId,\n",
    "    'table_names_original': listWithTableNameOriginalPerDbId,\n",
    "    'table_names_translated': listWithTranslatedTableName\n",
    "})\n",
    "\n",
    "tableOutputFileName = 'Table Translate Evaluation.xlsx'\n",
    "# Write DataFrame to Excel\n",
    "tablesDf.to_excel(tableOutputFileName, index=False)\n",
    "\n",
    "print(f\"DataFrame has been written to {tableOutputFileName} successfully.\")"
   ]
  },
  {
   "cell_type": "code",
   "execution_count": 8,
   "metadata": {},
   "outputs": [],
   "source": [
    "# Read the final table name\n",
    "tablesDf = pd.read_excel(tableOutputFileName)\n",
    "\n",
    "# Add the translated table name in the original data\n",
    "for database in tablesData:\n",
    "    dbId = database['db_id']\n",
    "    database['table_names_translated'] = fetchSpecificColumnForDbId(tablesDf, dbId, 'table_names_translated')\n",
    "    break"
   ]
  },
  {
   "cell_type": "code",
   "execution_count": 9,
   "metadata": {},
   "outputs": [],
   "source": [
    "listWithDbId = []\n",
    "listWithColumnNameOriginalPerDbId = []\n",
    "listWithTableIfForColumnName = []\n",
    "\n",
    "for database in tablesData:\n",
    "    dbId = database['db_id']\n",
    "    for columnNameInfo in database['column_names_original']:\n",
    "        listWithDbId.append(dbId)\n",
    "        columnNameOriginal = columnNameInfo[1]\n",
    "        listWithColumnNameOriginalPerDbId.append(columnNameOriginal)\n",
    "        tableId = columnNameInfo[0]\n",
    "        listWithTableIfForColumnName.append(tableId)\n",
    "    break"
   ]
  },
  {
   "cell_type": "code",
   "execution_count": 10,
   "metadata": {},
   "outputs": [],
   "source": [
    "listWithTranslatedColumnName = []\n",
    "for columnName in listWithColumnNameOriginalPerDbId:\n",
    "    if columnName == '*':\n",
    "        listWithTranslatedColumnName.append(columnName)\n",
    "    else:\n",
    "        translatedColumnName = 'Yea' # TODO: call the function to translate the columnName\n",
    "        listWithTranslatedColumnName.append(translatedColumnName)\n",
    "        pass"
   ]
  },
  {
   "cell_type": "code",
   "execution_count": 11,
   "metadata": {},
   "outputs": [
    {
     "name": "stdout",
     "output_type": "stream",
     "text": [
      "DataFrame has been written to Column Translate Evaluation.xlsx successfully.\n"
     ]
    }
   ],
   "source": [
    "# Creating a DataFrame\n",
    "columnsDf = pd.DataFrame({\n",
    "    'db_id': listWithDbId,\n",
    "    'table_id': listWithTableIfForColumnName,\n",
    "    'column_names_original': listWithColumnNameOriginalPerDbId,\n",
    "    'column_names_translated': listWithTranslatedColumnName\n",
    "})\n",
    "\n",
    "columnOutputFileName = 'Column Translate Evaluation.xlsx'\n",
    "# Write DataFrame to Excel\n",
    "columnsDf.to_excel(columnOutputFileName, index=False)\n",
    "\n",
    "print(f\"DataFrame has been written to {columnOutputFileName} successfully.\")"
   ]
  },
  {
   "cell_type": "code",
   "execution_count": 12,
   "metadata": {},
   "outputs": [
    {
     "data": {
      "text/plain": [
       "dict_keys(['column_names', 'column_names_original', 'column_types', 'db_id', 'foreign_keys', 'primary_keys', 'table_names', 'table_names_original', 'table_names_translated'])"
      ]
     },
     "execution_count": 12,
     "metadata": {},
     "output_type": "execute_result"
    }
   ],
   "source": [
    "tablesData[0].keys()"
   ]
  },
  {
   "cell_type": "code",
   "execution_count": 13,
   "metadata": {},
   "outputs": [],
   "source": [
    "# Read the final column name\n",
    "columnsDf = pd.read_excel(columnOutputFileName)\n",
    "\n",
    "listWithTranslatedColumnName = []\n",
    "listWithTableIfForColumnName = []\n",
    "listWithColumnInfo = []\n",
    "# Add the translated colum name in the original data\n",
    "for database in tablesData:\n",
    "    dbId = database['db_id']\n",
    "    listWithTableIfForColumnName = fetchSpecificColumnForDbId(columnsDf, dbId, 'table_id')\n",
    "    listWithTranslatedColumnName = fetchSpecificColumnForDbId(columnsDf, dbId, 'column_names_translated')\n",
    "    for i in range(len(listWithTranslatedColumnName)):\n",
    "        listWithColumnInfo.append([listWithTableIfForColumnName[i], listWithTranslatedColumnName[i]])\n",
    "    database['column_names_translated'] = listWithColumnInfo\n",
    "    break\n",
    "    "
   ]
  },
  {
   "cell_type": "code",
   "execution_count": 14,
   "metadata": {},
   "outputs": [
    {
     "data": {
      "text/plain": [
       "{'column_names': [[-1, '*'],\n",
       "  [0, 'perpetrator id'],\n",
       "  [0, 'people id'],\n",
       "  [0, 'date'],\n",
       "  [0, 'year'],\n",
       "  [0, 'location'],\n",
       "  [0, 'country'],\n",
       "  [0, 'killed'],\n",
       "  [0, 'injured'],\n",
       "  [1, 'people id'],\n",
       "  [1, 'name'],\n",
       "  [1, 'height'],\n",
       "  [1, 'weight'],\n",
       "  [1, 'home town']],\n",
       " 'column_names_original': [[-1, '*'],\n",
       "  [0, 'Perpetrator_ID'],\n",
       "  [0, 'People_ID'],\n",
       "  [0, 'Date'],\n",
       "  [0, 'Year'],\n",
       "  [0, 'Location'],\n",
       "  [0, 'Country'],\n",
       "  [0, 'Killed'],\n",
       "  [0, 'Injured'],\n",
       "  [1, 'People_ID'],\n",
       "  [1, 'Name'],\n",
       "  [1, 'Height'],\n",
       "  [1, 'Weight'],\n",
       "  [1, 'Home Town']],\n",
       " 'column_types': ['text',\n",
       "  'number',\n",
       "  'number',\n",
       "  'text',\n",
       "  'number',\n",
       "  'text',\n",
       "  'text',\n",
       "  'number',\n",
       "  'number',\n",
       "  'number',\n",
       "  'text',\n",
       "  'number',\n",
       "  'number',\n",
       "  'text'],\n",
       " 'db_id': 'perpetrator',\n",
       " 'foreign_keys': [[2, 9]],\n",
       " 'primary_keys': [1, 9],\n",
       " 'table_names': ['perpetrator', 'people'],\n",
       " 'table_names_original': ['perpetrator', 'people'],\n",
       " 'table_names_translated': ['Hi', 'Hi'],\n",
       " 'column_names_translated': [[-1, '*'],\n",
       "  [0, 'Yea'],\n",
       "  [0, 'Yea'],\n",
       "  [0, 'Yea'],\n",
       "  [0, 'Yea'],\n",
       "  [0, 'Yea'],\n",
       "  [0, 'Yea'],\n",
       "  [0, 'Yea'],\n",
       "  [0, 'Yea'],\n",
       "  [1, 'Yea'],\n",
       "  [1, 'Yea'],\n",
       "  [1, 'Yea'],\n",
       "  [1, 'Yea'],\n",
       "  [1, 'Yea']]}"
      ]
     },
     "execution_count": 14,
     "metadata": {},
     "output_type": "execute_result"
    }
   ],
   "source": [
    "tablesData[0]"
   ]
  },
  {
   "cell_type": "code",
   "execution_count": null,
   "metadata": {},
   "outputs": [],
   "source": []
  }
 ],
 "metadata": {
  "kernelspec": {
   "display_name": "Python 3",
   "language": "python",
   "name": "python3"
  },
  "language_info": {
   "codemirror_mode": {
    "name": "ipython",
    "version": 3
   },
   "file_extension": ".py",
   "mimetype": "text/x-python",
   "name": "python",
   "nbconvert_exporter": "python",
   "pygments_lexer": "ipython3",
   "version": "3.10.9"
  }
 },
 "nbformat": 4,
 "nbformat_minor": 2
}
