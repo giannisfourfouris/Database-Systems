{
 "cells": [
  {
   "cell_type": "markdown",
   "metadata": {},
   "source": [
    "# Translate tables.json"
   ]
  },
  {
   "cell_type": "code",
   "execution_count": 134,
   "metadata": {},
   "outputs": [],
   "source": [
    "import json\n",
    "\n",
    "# Define a function to load JSON data from a file\n",
    "def loadJson(filename):\n",
    "    # Open the specified file in read mode, specifying utf-8 encoding\n",
    "    with open(filename, 'r', encoding='utf-8') as file:\n",
    "        # Load the JSON data from the file into a Python dictionary\n",
    "        data = json.load(file)\n",
    "    # Return the loaded data\n",
    "    return data"
   ]
  },
  {
   "cell_type": "code",
   "execution_count": 135,
   "metadata": {},
   "outputs": [],
   "source": [
    "import pandas as pd\n",
    "\n",
    "def fetchSpecificColumnForDbId(df, specificDbId, columnName):\n",
    "    # Filter rows based on the specific db_id\n",
    "    filteredDf = df[df['db_id'] == specificDbId]\n",
    "\n",
    "    # Extract the specified column from the filtered DataFrame\n",
    "    column_data = filteredDf[columnName]\n",
    "\n",
    "    # Convert the column data to a list\n",
    "    column_list = column_data.tolist()\n",
    "\n",
    "    return column_list"
   ]
  },
  {
   "cell_type": "code",
   "execution_count": 136,
   "metadata": {},
   "outputs": [],
   "source": [
    "def createTableDict(database):\n",
    "    dictWithTables = {}\n",
    "    # Extract table names from the database schema (assuming they are stored in 'table_names')\n",
    "    tablesNames = database['table_names']  # TODO: Change to 'table_names_translated' once available\n",
    "    \n",
    "    # Iterate over the table names and assign each a unique index as the key in the dictionary\n",
    "    for index, tableName in enumerate(tablesNames):\n",
    "        dictWithTables[index] = tableName\n",
    "    \n",
    "    return dictWithTables"
   ]
  },
  {
   "cell_type": "code",
   "execution_count": 137,
   "metadata": {},
   "outputs": [],
   "source": [
    "import openai\n",
    "\n",
    "def translateInfo(systemContent, inputInfo): \n",
    "    openai.api_base = 'https://pta-nbg-poc1.openai.azure.com/'\n",
    "    openai.api_key = '89423897cfd94a89838586e836d26690'\n",
    "    deployment_name = 'got-35-turbo1'\n",
    "    openai.api_type = 'azure'\n",
    "    openai.api_version = '2023-03-15-preview' # this may change in the future\n",
    "\n",
    "    # systemContent = '''I will give you english column names from tables in english and you will translate it in greek. \n",
    "    # Please return only the translated column.'''\n",
    "\n",
    "    # inputInfo = '''Translate the column \"assets in million\" to greek to fit the context of the table:\n",
    "    # Table: company\n",
    "    # Columns: company id, name, headquarters, industry, sales in million, assets in million'''\n",
    "\n",
    "    response = openai.ChatCompletion.create(\n",
    "        engine=deployment_name, # The deployment name you chose when you deployed the GPT-3.5-Turbo or GPT-4 model.\n",
    "        messages=[\n",
    "            {\"role\": \"system\", \"content\": systemContent},\n",
    "            {\"role\": \"user\", \"content\": inputInfo}\n",
    "        ]\n",
    "    )\n",
    "\n",
    "    return response['choices'][0]['message']['content']\n"
   ]
  },
  {
   "cell_type": "code",
   "execution_count": 138,
   "metadata": {},
   "outputs": [
    {
     "data": {
      "text/plain": [
       "dict_keys(['column_names', 'column_names_original', 'column_types', 'db_id', 'foreign_keys', 'primary_keys', 'table_names', 'table_names_original'])"
      ]
     },
     "execution_count": 138,
     "metadata": {},
     "output_type": "execute_result"
    }
   ],
   "source": [
    "# Read the tables.json\n",
    "tableFileName = r'..\\Spider\\tables.json'\n",
    "tablesData = loadJson(tableFileName)\n",
    "tablesData[0].keys()"
   ]
  },
  {
   "cell_type": "code",
   "execution_count": 139,
   "metadata": {},
   "outputs": [],
   "source": [
    "listWithDbId = []\n",
    "listWithTableNameOriginalPerDbId = []\n",
    "\n",
    "# Iterate over each database in tablesData\n",
    "for database in tablesData:\n",
    "    # Extract the db_id of the current database\n",
    "    dbId = database['db_id']\n",
    "    # Extract the table_names_original from the current database\n",
    "    tableNamesOriginal = database['table_names_original']\n",
    "    \n",
    "    # Iterate over each tableNameOriginal in tableNamesOriginal\n",
    "    for tableNameOriginal in tableNamesOriginal:\n",
    "        # Append the dbId to listWithDbId\n",
    "        listWithDbId.append(dbId)\n",
    "        # Append the tableNameOriginal to listWithTableNameOriginalPerDbId\n",
    "        listWithTableNameOriginalPerDbId.append(tableNameOriginal)"
   ]
  },
  {
   "cell_type": "code",
   "execution_count": 169,
   "metadata": {},
   "outputs": [
    {
     "name": "stdout",
     "output_type": "stream",
     "text": [
      "87/876 of table names examined.\n"
     ]
    }
   ],
   "source": [
    "listWithTranslatedTableName = []\n",
    "\n",
    "systemContent = '''I will give you an english table names from a schema in english and you will translate it in greek.  \n",
    "                    Please return only the translated table name.'''\n",
    "\n",
    "totalNumOfTableNames = len(listWithTableNameOriginalPerDbId)\n",
    "tenPercent = totalNumOfTableNames // 10  # Calculate 10% of the total tables\n",
    "\n",
    "# Iterate over each tableName in listWithTableNameOriginalPerDbId\n",
    "for index, tableName in enumerate(listWithTableNameOriginalPerDbId, start=1):\n",
    "    # Call the function to translate the tableName\n",
    "    translatedTableName = translateInfo(systemContent, tableName).lower()\n",
    "    # Append the translatedTableName to listWithTranslatedTableName\n",
    "    listWithTranslatedTableName.append(translatedTableName)\n",
    "    \n",
    "    # Check if approximately 10% of tables have been examined\n",
    "    if index % tenPercent == 0:\n",
    "        print(f\"{index}/{totalNumOfTableNames} of table names examined.\")\n",
    "        break"
   ]
  },
  {
   "cell_type": "code",
   "execution_count": 142,
   "metadata": {},
   "outputs": [
    {
     "name": "stdout",
     "output_type": "stream",
     "text": [
      "DataFrame has been written to Table Translate Evaluation.xlsx successfully.\n"
     ]
    }
   ],
   "source": [
    "# Creating a DataFrame with three columns: db_id, table_names_original, and table_names_translated\n",
    "tablesDf = pd.DataFrame({\n",
    "    'db_id': listWithDbId,\n",
    "    'table_names_original': listWithTableNameOriginalPerDbId,\n",
    "    'table_names_translated': listWithTranslatedTableName\n",
    "})\n",
    "\n",
    "# Define the output file name for the Excel file\n",
    "tableOutputFileName = 'Table Translate Evaluation.xlsx'\n",
    "\n",
    "# Write the DataFrame to an Excel file without including the index\n",
    "tablesDf.to_excel(tableOutputFileName, index=False)\n",
    "\n",
    "# Print a confirmation message indicating successful writing of the DataFrame to the Excel file\n",
    "print(f\"DataFrame has been written to {tableOutputFileName} successfully.\")"
   ]
  },
  {
   "cell_type": "code",
   "execution_count": 143,
   "metadata": {},
   "outputs": [],
   "source": [
    "# Read the final table name DataFrame from the Excel file\n",
    "tablesDf = pd.read_excel(tableOutputFileName)\n",
    "\n",
    "# Add the translated table names to the original data\n",
    "for database in tablesData:\n",
    "    # Extract the db_id of the current database\n",
    "    dbId = database['db_id']\n",
    "    # Fetch the translated table names for the current db_id from tablesDf\n",
    "    translated_table_names = fetchSpecificColumnForDbId(tablesDf, dbId, 'table_names_translated')\n",
    "    # Assign the translated table names to the 'table_names_translated' key in the original database data\n",
    "    database['table_names_translated'] = translated_table_names\n",
    "    break #TODO: Remove the break"
   ]
  },
  {
   "cell_type": "code",
   "execution_count": 56,
   "metadata": {},
   "outputs": [],
   "source": [
    "#Save the tables.json as it contains the translated table_names"
   ]
  },
  {
   "cell_type": "code",
   "execution_count": 144,
   "metadata": {},
   "outputs": [],
   "source": [
    "listWithDbId = []\n",
    "listWithColumnNameOriginalPerDbId = []\n",
    "listWithTableIdForColumnName = []\n",
    "listWithTableNamesForColumnName = []\n",
    "\n",
    "# Iterate over each database in tablesData\n",
    "for database in tablesData:\n",
    "    # Extract the db_id of the current database\n",
    "    dbId = database['db_id']\n",
    "\n",
    "    # Create a dictionary of tables with their indices as keys\n",
    "    dictWithTables = createTableDict(database)\n",
    "    \n",
    "    # Iterate over each columnNameInfo in column_names_original of the current database\n",
    "    for columnNameInfo in database['column_names_original']:\n",
    "\n",
    "        # Append the dbId to listWithDbId\n",
    "        listWithDbId.append(dbId)\n",
    "        \n",
    "        # Extract the columnNameOriginal from columnNameInfo and append it to listWithColumnNameOriginalPerDbId\n",
    "        columnNameOriginal = columnNameInfo[1]\n",
    "        listWithColumnNameOriginalPerDbId.append(columnNameOriginal)\n",
    "        \n",
    "        # Extract the tableId from columnNameInfo and append it to listWithTableIdForColumnName\n",
    "        tableId = columnNameInfo[0]\n",
    "        listWithTableIdForColumnName.append(tableId)\n",
    "\n",
    "        # If tableId is -1, append '-1' to listWithTableNamesForColumnName, indicating unknown table\n",
    "        if tableId == -1:\n",
    "            listWithTableNamesForColumnName.append('-1')\n",
    "        else:\n",
    "            # Otherwise, append the table name corresponding to tableId to listWithTableNamesForColumnName\n",
    "            listWithTableNamesForColumnName.append(dictWithTables[tableId])\n",
    "    \n",
    "    # Remove the break to iterate over all databases\n",
    "    break #TODO: Remove the break\n"
   ]
  },
  {
   "cell_type": "code",
   "execution_count": 145,
   "metadata": {},
   "outputs": [],
   "source": [
    "# Create an empty dictionary to store table names as keys and corresponding column names as values.\n",
    "dictWitnTablesAndColumnsNames = {}\n",
    "\n",
    "# Iterate through pairs of table names and column names.\n",
    "for tableName, columnName in zip(listWithTableNamesForColumnName, listWithColumnNameOriginalPerDbId):\n",
    "    # Check if both the table name and column name are not special values.\n",
    "    if tableName != -1 and columnName != '*':\n",
    "        # Check if the table name is not already in the dictionary.\n",
    "        if tableName not in dictWitnTablesAndColumnsNames.keys():\n",
    "            # If not, initialize the entry with a list containing the current column name.\n",
    "            dictWitnTablesAndColumnsNames[tableName] = [columnName]\n",
    "        else:\n",
    "            # If the table name is already in the dictionary, append the current column name to its list of column names.\n",
    "            dictWitnTablesAndColumnsNames[tableName].append(columnName)"
   ]
  },
  {
   "cell_type": "code",
   "execution_count": 146,
   "metadata": {},
   "outputs": [],
   "source": [
    "def createTheDesiredPromtForColumnsTranslation(tableName, dictWitnTablesAndColumnsNames, columnName):\n",
    "    # Retrieve the list of column names associated with the given table name.\n",
    "    columnsInfo = dictWitnTablesAndColumnsNames[tableName]\n",
    "    \n",
    "    # Join the list of column names into a comma-separated string.\n",
    "    columnCombination = ', '.join(columnsInfo)\n",
    "    \n",
    "    # Construct and return the prompt string for translating the given column name to Greek.\n",
    "    return f'''Translate the column \"{columnName}\" to Greek to fit the context of the table:\n",
    "            Table: {tableName}\n",
    "            Columns: {columnCombination}'''"
   ]
  },
  {
   "cell_type": "code",
   "execution_count": 147,
   "metadata": {},
   "outputs": [],
   "source": [
    "listWithTranslatedColumnName = []\n",
    "\n",
    "systemContent = '''I will give you english column names from tables in english and you will translate it in greek.  \n",
    "                Please return only the translated column.'''\n",
    "\n",
    "# Iterate over each columnName in listWithColumnNameOriginalPerDbId\n",
    "for tableName, columnName in zip(listWithTableNamesForColumnName, listWithColumnNameOriginalPerDbId):\n",
    "    # Check if the columnName is '*'\n",
    "    if columnName == '*':\n",
    "        # If columnName is '*', append it directly to listWithTranslatedColumnName\n",
    "        listWithTranslatedColumnName.append(columnName)\n",
    "    else:\n",
    "        # Otherwise, call the function to translate the columnName\n",
    "        prompt = createTheDesiredPromtForColumnsTranslation(tableName, dictWitnTablesAndColumnsNames, columnName)\n",
    "        translatedColumnName = translateInfo(systemContent, prompt)\n",
    "        # Append the translatedColumnName to listWithTranslatedColumnName\n",
    "        listWithTranslatedColumnName.append(translatedColumnName)"
   ]
  },
  {
   "cell_type": "code",
   "execution_count": 148,
   "metadata": {},
   "outputs": [
    {
     "name": "stdout",
     "output_type": "stream",
     "text": [
      "DataFrame has been written to Column Translate Evaluation.xlsx successfully.\n"
     ]
    }
   ],
   "source": [
    "# Creating a DataFrame with four columns: db_id, table_id, column_names_original, and column_names_translated\n",
    "columnsDf = pd.DataFrame({\n",
    "    'db_id': listWithDbId,\n",
    "    'table_id': listWithTableIdForColumnName,\n",
    "    'table_name': listWithTableNamesForColumnName,\n",
    "    'column_names_original': listWithColumnNameOriginalPerDbId,\n",
    "    'column_names_translated': listWithTranslatedColumnName\n",
    "})\n",
    "\n",
    "# Define the output file name for the Excel file\n",
    "columnOutputFileName = 'Column Translate Evaluation.xlsx'\n",
    "\n",
    "# Write the DataFrame to an Excel file without including the index\n",
    "columnsDf.to_excel(columnOutputFileName, index=False)\n",
    "\n",
    "# Print a confirmation message indicating successful writing of the DataFrame to the Excel file\n",
    "print(f\"DataFrame has been written to {columnOutputFileName} successfully.\")"
   ]
  },
  {
   "cell_type": "code",
   "execution_count": 149,
   "metadata": {},
   "outputs": [
    {
     "data": {
      "text/plain": [
       "dict_keys(['column_names', 'column_names_original', 'column_types', 'db_id', 'foreign_keys', 'primary_keys', 'table_names', 'table_names_original', 'table_names_translated'])"
      ]
     },
     "execution_count": 149,
     "metadata": {},
     "output_type": "execute_result"
    }
   ],
   "source": [
    "tablesData[0].keys()"
   ]
  },
  {
   "cell_type": "code",
   "execution_count": 150,
   "metadata": {},
   "outputs": [],
   "source": [
    "# Read the DataFrame containing translated column names from the Excel file\n",
    "columnsDf = pd.read_excel(columnOutputFileName)\n",
    "\n",
    "# Initialize lists to store translated column names, table IDs, and column info\n",
    "listWithTranslatedColumnName = []\n",
    "listWithTableIdForColumnName = []\n",
    "listWithColumnInfo = []\n",
    "\n",
    "# Add the translated column names to the original data\n",
    "for database in tablesData:\n",
    "    # Extract the db_id of the current database\n",
    "    dbId = database['db_id']\n",
    "    \n",
    "    # Fetch the table IDs and translated column names for the current db_id from columnsDf\n",
    "    listWithTableIdForColumnName = fetchSpecificColumnForDbId(columnsDf, dbId, 'table_id')\n",
    "    listWithTranslatedColumnName = fetchSpecificColumnForDbId(columnsDf, dbId, 'column_names_translated')\n",
    "    \n",
    "    # Iterate over the translated column names and table IDs\n",
    "    for i in range(len(listWithTranslatedColumnName)):\n",
    "        # Append the table ID and translated column name as a list to listWithColumnInfo\n",
    "        listWithColumnInfo.append([listWithTableIdForColumnName[i], listWithTranslatedColumnName[i]])\n",
    "    \n",
    "    # Assign the listWithColumnInfo to the 'column_names_translated' key in the original database data\n",
    "    database['column_names_translated'] = listWithColumnInfo\n",
    "    \n",
    "    break #TODO: Remove the break"
   ]
  },
  {
   "cell_type": "code",
   "execution_count": 151,
   "metadata": {},
   "outputs": [
    {
     "data": {
      "text/plain": [
       "{'column_names': [[-1, '*'],\n",
       "  [0, 'perpetrator id'],\n",
       "  [0, 'people id'],\n",
       "  [0, 'date'],\n",
       "  [0, 'year'],\n",
       "  [0, 'location'],\n",
       "  [0, 'country'],\n",
       "  [0, 'killed'],\n",
       "  [0, 'injured'],\n",
       "  [1, 'people id'],\n",
       "  [1, 'name'],\n",
       "  [1, 'height'],\n",
       "  [1, 'weight'],\n",
       "  [1, 'home town']],\n",
       " 'column_names_original': [[-1, '*'],\n",
       "  [0, 'Perpetrator_ID'],\n",
       "  [0, 'People_ID'],\n",
       "  [0, 'Date'],\n",
       "  [0, 'Year'],\n",
       "  [0, 'Location'],\n",
       "  [0, 'Country'],\n",
       "  [0, 'Killed'],\n",
       "  [0, 'Injured'],\n",
       "  [1, 'People_ID'],\n",
       "  [1, 'Name'],\n",
       "  [1, 'Height'],\n",
       "  [1, 'Weight'],\n",
       "  [1, 'Home Town']],\n",
       " 'column_types': ['text',\n",
       "  'number',\n",
       "  'number',\n",
       "  'text',\n",
       "  'number',\n",
       "  'text',\n",
       "  'text',\n",
       "  'number',\n",
       "  'number',\n",
       "  'number',\n",
       "  'text',\n",
       "  'number',\n",
       "  'number',\n",
       "  'text'],\n",
       " 'db_id': 'perpetrator',\n",
       " 'foreign_keys': [[2, 9]],\n",
       " 'primary_keys': [1, 9],\n",
       " 'table_names': ['perpetrator', 'people'],\n",
       " 'table_names_original': ['perpetrator', 'people'],\n",
       " 'table_names_translated': [1, 1],\n",
       " 'column_names_translated': [[-1, '*'],\n",
       "  [0, '\"Αναγνωριστικό_Δράστη\"'],\n",
       "  [0, 'Ανθρωπος_ΑΤΜ'],\n",
       "  [0, 'Ημερομηνία'],\n",
       "  [0, 'Έτος'],\n",
       "  [0, 'Τοποθεσία'],\n",
       "  [0, 'Χώρα'],\n",
       "  [0, '\"Νεκροί\"'],\n",
       "  [0, 'Τραυματίες.'],\n",
       "  [1, 'Ανθρωποι_ΑΤ in Greek.'],\n",
       "  [1, 'Όνομα'],\n",
       "  [1, 'Ύψος'],\n",
       "  [1, 'Βάρος'],\n",
       "  [1, 'Πόλη καταγωγής']]}"
      ]
     },
     "execution_count": 151,
     "metadata": {},
     "output_type": "execute_result"
    }
   ],
   "source": [
    "tablesData[0]"
   ]
  },
  {
   "cell_type": "code",
   "execution_count": 65,
   "metadata": {},
   "outputs": [],
   "source": [
    "#Save the updated tables.json"
   ]
  },
  {
   "cell_type": "markdown",
   "metadata": {},
   "source": [
    "# Translate dev.json"
   ]
  },
  {
   "cell_type": "code",
   "execution_count": 152,
   "metadata": {},
   "outputs": [
    {
     "data": {
      "text/plain": [
       "dict_keys(['column_names', 'column_names_original', 'column_types', 'db_id', 'foreign_keys', 'primary_keys', 'table_names', 'table_names_original'])"
      ]
     },
     "execution_count": 152,
     "metadata": {},
     "output_type": "execute_result"
    }
   ],
   "source": [
    "# Read the tables.json\n",
    "tableFileName = r'..\\Spider\\tables.json'\n",
    "tablesData = loadJson(tableFileName)\n",
    "tablesData[0].keys()"
   ]
  },
  {
   "cell_type": "code",
   "execution_count": 153,
   "metadata": {},
   "outputs": [
    {
     "data": {
      "text/plain": [
       "dict_keys(['db_id', 'query', 'query_toks', 'query_toks_no_value', 'question', 'question_toks', 'sql'])"
      ]
     },
     "execution_count": 153,
     "metadata": {},
     "output_type": "execute_result"
    }
   ],
   "source": [
    "# Read the dev.json\n",
    "devFileName = r'..\\Spider\\dev.json'\n",
    "devDataset = loadJson(devFileName)\n",
    "devDataset[0].keys()"
   ]
  },
  {
   "cell_type": "code",
   "execution_count": 154,
   "metadata": {},
   "outputs": [],
   "source": [
    "dictWithTablesData = {}\n",
    "\n",
    "# Create a dictionary where db_id is the key and the corresponding jsonSchema is the value\n",
    "for jsonSchema in tablesData:\n",
    "    dictWithTablesData[jsonSchema['db_id']] = jsonSchema"
   ]
  },
  {
   "cell_type": "code",
   "execution_count": 155,
   "metadata": {},
   "outputs": [],
   "source": [
    "def createTableDict(database):\n",
    "    dictWithTables = {}\n",
    "    # Extract table names from the database schema (assuming they are stored in 'table_names')\n",
    "    tablesNames = database['table_names']  # TODO: Change to 'table_names_translated' once available\n",
    "    \n",
    "    # Iterate over the table names and assign each a unique index as the key in the dictionary\n",
    "    for index, tableName in enumerate(tablesNames):\n",
    "        dictWithTables[index] = tableName\n",
    "    \n",
    "    return dictWithTables"
   ]
  },
  {
   "cell_type": "code",
   "execution_count": 156,
   "metadata": {},
   "outputs": [],
   "source": [
    "def returnTableAndColumnInfoForDbId(dictWithTablesData, dbId):\n",
    "    # Retrieve the database schema corresponding to the given dbId\n",
    "    database = dictWithTablesData[dbId]\n",
    "    # Create a dictionary of tables with their indices as keys\n",
    "    dictWithTables = createTableDict(database)\n",
    "\n",
    "    # Initialize a list to store table and column information\n",
    "    listWithTableAndColumnInfo = []\n",
    "\n",
    "    # Iterate over the column information in the database schema\n",
    "    for index, columnName in database['column_names']:  # TODO: Change to 'column_names_translated' once available\n",
    "        # Check if the column index is valid (-1 indicates unknown)\n",
    "        if index != -1:\n",
    "            # Retrieve the table name corresponding to the index from the dictionary\n",
    "            tableName = dictWithTables[index]\n",
    "            # Append the table name and column name to the list\n",
    "            listWithTableAndColumnInfo.append([tableName, columnName])\n",
    "\n",
    "    return listWithTableAndColumnInfo"
   ]
  },
  {
   "cell_type": "code",
   "execution_count": 157,
   "metadata": {},
   "outputs": [],
   "source": [
    "def createSchemaInfoDict(listWithTableAndColumnInfo):\n",
    "    # Create an empty dictionary to store table names as keys and corresponding column names as values.\n",
    "    dictWithSchemaInfo = {}\n",
    "\n",
    "    # Iterate through pairs of table names and column names.\n",
    "    for tableName, columnName in listWithTableAndColumnInfo:\n",
    "        # Check if both the table name and column name are not special values.\n",
    "        if tableName != -1 and columnName != '*':\n",
    "            # Check if the table name is not already in the dictionary.\n",
    "            if tableName not in dictWithSchemaInfo.keys():\n",
    "                # If not, initialize the entry with a list containing the current column name.\n",
    "                dictWithSchemaInfo[tableName] = [columnName]\n",
    "            else:\n",
    "                # If the table name is already in the dictionary, append the current column name to its list of column names.\n",
    "                dictWithSchemaInfo[tableName].append(columnName)\n",
    "    return dictWithSchemaInfo"
   ]
  },
  {
   "cell_type": "code",
   "execution_count": 164,
   "metadata": {},
   "outputs": [],
   "source": [
    "def createTheDesiredPromtForQuestionsTranslation(question, dictWithSchemaInfo):\n",
    "    infoString = \"\"\n",
    "\n",
    "    for tableName, columnNames in dictWithSchemaInfo.items():\n",
    "        infoString += f\"Table: {tableName}\\n\"\n",
    "        infoString += f\"Columns: {', '.join(columnNames)}\\n\"\n",
    "    \n",
    "    return f'''Translate the question \"{question}\" to Greek. You can only use table and columns info provided below:\\n{infoString}'''"
   ]
  },
  {
   "cell_type": "code",
   "execution_count": 165,
   "metadata": {},
   "outputs": [],
   "source": [
    "listWithDbId = []\n",
    "listWithOriginalQuestionPerDbId = []\n",
    "listWithTranslatedQuestionPerDbId = []\n",
    "listWithTableAndColumnInfoForQuestion = []\n",
    "\n",
    "systemContent = '''I will give you english questions that correspond to sql queries in english and you will translate it in greek.  \n",
    "                Please return only the translated question.'''\n",
    "\n",
    "# Iterate over each questionInfo in devDataset\n",
    "for questionInfo in devDataset:\n",
    "    # Extract the db_id from the questionInfo\n",
    "    dbId = questionInfo['db_id']\n",
    "    # Append the dbId to listWithDbId\n",
    "    listWithDbId.append(dbId)\n",
    "    # Retrieve table and column information for the current dbId\n",
    "    listWithTableAndColumnInfo = returnTableAndColumnInfoForDbId(dictWithTablesData, dbId)\n",
    "    dictWithSchemaInfo = createSchemaInfoDict(listWithTableAndColumnInfo)\n",
    "    # Append the table and column information to listWithTableAndColumnInfoForQuestion\n",
    "    listWithTableAndColumnInfoForQuestion.append(listWithTableAndColumnInfo)\n",
    "    # Extract the original question from questionInfo and append it to listWithOriginalQuestionPerDbId\n",
    "    question = questionInfo['question']\n",
    "    listWithOriginalQuestionPerDbId.append(question)\n",
    "\n",
    "    prompt =createTheDesiredPromtForQuestionsTranslation(question, dictWithSchemaInfo)\n",
    "\n",
    "    # Translate the question \n",
    "    translatedQuestion = translateInfo(systemContent, prompt)\n",
    "    # Append the translated question to listWithTranslatedQuestionPerDbId\n",
    "    listWithTranslatedQuestionPerDbId.append(translatedQuestion)\n",
    "    break #TODO: Remove the break"
   ]
  },
  {
   "cell_type": "code",
   "execution_count": 167,
   "metadata": {},
   "outputs": [
    {
     "name": "stdout",
     "output_type": "stream",
     "text": [
      "DataFrame has been written to Question Translate Evaluation.xlsx successfully.\n"
     ]
    }
   ],
   "source": [
    "# Creating a DataFrame with four columns: db_id, table_info, question_original, and question_translated\n",
    "questionsDf = pd.DataFrame({\n",
    "    'db_id': listWithDbId,\n",
    "    'table_info': listWithTableAndColumnInfoForQuestion,\n",
    "    'question_original': listWithOriginalQuestionPerDbId,\n",
    "    'question_translated': listWithTranslatedQuestionPerDbId\n",
    "})\n",
    "\n",
    "# Define the output file name for the Excel file\n",
    "questionsOutputFileName = 'Question Translate Evaluation.xlsx'\n",
    "\n",
    "# Write the DataFrame to an Excel file without including the index\n",
    "questionsDf.to_excel(questionsOutputFileName, index=False)\n",
    "\n",
    "# Print a confirmation message indicating successful writing of the DataFrame to the Excel file\n",
    "print(f\"DataFrame has been written to {questionsOutputFileName} successfully.\")"
   ]
  },
  {
   "cell_type": "code",
   "execution_count": 23,
   "metadata": {},
   "outputs": [],
   "source": [
    "import nltk\n",
    "\n",
    "def tokenizeSentence(sentence):\n",
    "    # Tokenize the input sentence using nltk.word_tokenize()\n",
    "    tokens = nltk.word_tokenize(sentence)\n",
    "    return tokens"
   ]
  },
  {
   "cell_type": "code",
   "execution_count": 24,
   "metadata": {},
   "outputs": [],
   "source": [
    "# Read the final question DataFrame from the Excel file\n",
    "questionsDf = pd.read_excel(questionsOutputFileName)\n",
    "\n",
    "# Add the translated question and its tokenized form to the original data\n",
    "for questionInfo in devDataset:\n",
    "    # Extract the db_id and original question from the questionInfo\n",
    "    dbId = questionInfo['db_id']\n",
    "    question = questionInfo['question']\n",
    "    \n",
    "    # Filter questionsDf to find the row corresponding to the current dbId and original question\n",
    "    filteredQuestionsDf = questionsDf[(questionsDf['db_id'] == dbId) & (questionsDf['question_original'] == question)]\n",
    "    \n",
    "    # Extract the translated question from the filtered DataFrame\n",
    "    questionTranslated = filteredQuestionsDf['question_translated'].values[0]\n",
    "    \n",
    "    # Update questionInfo with the translated question and its tokenized form\n",
    "    questionInfo['question_translated'] = questionTranslated\n",
    "    questionInfo['question_toks_translated'] = tokenizeSentence(questionTranslated)\n",
    "    \n",
    "    break #TODO: Remove the break"
   ]
  },
  {
   "cell_type": "code",
   "execution_count": 25,
   "metadata": {},
   "outputs": [
    {
     "data": {
      "text/plain": [
       "{'db_id': 'concert_singer',\n",
       " 'query': 'SELECT count(*) FROM singer',\n",
       " 'query_toks': ['SELECT', 'count', '(', '*', ')', 'FROM', 'singer'],\n",
       " 'query_toks_no_value': ['select', 'count', '(', '*', ')', 'from', 'singer'],\n",
       " 'question': 'How many singers do we have?',\n",
       " 'question_toks': ['How', 'many', 'singers', 'do', 'we', 'have', '?'],\n",
       " 'sql': {'from': {'table_units': [['table_unit', 1]], 'conds': []},\n",
       "  'select': [False, [[3, [0, [0, 0, False], None]]]],\n",
       "  'where': [],\n",
       "  'groupBy': [],\n",
       "  'having': [],\n",
       "  'orderBy': [],\n",
       "  'limit': None,\n",
       "  'intersect': None,\n",
       "  'union': None,\n",
       "  'except': None},\n",
       " 'question_translated': 'Πόσους αριθμούς έχω;',\n",
       " 'question_toks_translated': ['Πόσους', 'αριθμούς', 'έχω', ';']}"
      ]
     },
     "execution_count": 25,
     "metadata": {},
     "output_type": "execute_result"
    }
   ],
   "source": [
    "devDataset[0]"
   ]
  },
  {
   "cell_type": "code",
   "execution_count": 26,
   "metadata": {},
   "outputs": [],
   "source": [
    "#Save the updated dev.json"
   ]
  },
  {
   "cell_type": "code",
   "execution_count": null,
   "metadata": {},
   "outputs": [],
   "source": []
  }
 ],
 "metadata": {
  "kernelspec": {
   "display_name": "Python 3",
   "language": "python",
   "name": "python3"
  },
  "language_info": {
   "codemirror_mode": {
    "name": "ipython",
    "version": 3
   },
   "file_extension": ".py",
   "mimetype": "text/x-python",
   "name": "python",
   "nbconvert_exporter": "python",
   "pygments_lexer": "ipython3",
   "version": "3.10.9"
  }
 },
 "nbformat": 4,
 "nbformat_minor": 2
}
