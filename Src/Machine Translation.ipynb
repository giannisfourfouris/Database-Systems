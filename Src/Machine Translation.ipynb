{
 "cells": [
  {
   "cell_type": "code",
   "execution_count": 10,
   "metadata": {},
   "outputs": [],
   "source": [
    "%run Utils.ipynb"
   ]
  },
  {
   "cell_type": "code",
   "execution_count": 11,
   "metadata": {},
   "outputs": [],
   "source": [
    "language = 'Greek'"
   ]
  },
  {
   "cell_type": "code",
   "execution_count": 12,
   "metadata": {},
   "outputs": [],
   "source": [
    "originalLanguage = ''\n",
    "translatedLanguage = ''\n",
    "\n",
    "if language.lower() == 'greek':\n",
    "    originalLanguage = 'Greek'\n",
    "    translatedLanguage = 'English'\n",
    "elif language.lower() == 'english':\n",
    "    originalLanguage = 'English'\n",
    "    translatedLanguage = 'Greek'"
   ]
  },
  {
   "cell_type": "code",
   "execution_count": 13,
   "metadata": {},
   "outputs": [
    {
     "data": {
      "text/plain": [
       "dict_keys(['column_names', 'column_names_original', 'column_types', 'db_id', 'foreign_keys', 'primary_keys', 'table_names', 'table_names_original'])"
      ]
     },
     "execution_count": 13,
     "metadata": {},
     "output_type": "execute_result"
    }
   ],
   "source": [
    "# Read the tables.json\n",
    "tableFileName = fr'DevSplit\\{translatedLanguage}\\tables.json'\n",
    "tablesData = loadJson(tableFileName)\n",
    "tablesData[0].keys()"
   ]
  },
  {
   "cell_type": "code",
   "execution_count": 14,
   "metadata": {},
   "outputs": [
    {
     "data": {
      "text/plain": [
       "dict_keys(['db_id', 'query', 'query_toks', 'query_toks_no_value', 'question', 'question_toks', 'sql'])"
      ]
     },
     "execution_count": 14,
     "metadata": {},
     "output_type": "execute_result"
    }
   ],
   "source": [
    "# Read the dev.json\n",
    "devFileName = fr'DevSplit\\{originalLanguage}\\dev.json'\n",
    "devDataset = loadJson(devFileName)\n",
    "devDataset[0].keys()"
   ]
  },
  {
   "cell_type": "code",
   "execution_count": 15,
   "metadata": {},
   "outputs": [],
   "source": [
    "dictWithTablesData = {}\n",
    "\n",
    "# Create a dictionary where db_id is the key and the corresponding jsonSchema is the value\n",
    "for jsonSchema in tablesData:\n",
    "    dictWithTablesData[jsonSchema['db_id']] = jsonSchema"
   ]
  },
  {
   "cell_type": "code",
   "execution_count": 16,
   "metadata": {},
   "outputs": [
    {
     "name": "stdout",
     "output_type": "stream",
     "text": [
      "11/110 of questions have been examined.\n",
      "22/110 of questions have been examined.\n",
      "33/110 of questions have been examined.\n",
      "44/110 of questions have been examined.\n",
      "55/110 of questions have been examined.\n",
      "66/110 of questions have been examined.\n",
      "77/110 of questions have been examined.\n",
      "88/110 of questions have been examined.\n",
      "99/110 of questions have been examined.\n",
      "110/110 of questions have been examined.\n"
     ]
    }
   ],
   "source": [
    "systemContent = f'I will give you {originalLanguage} questions and you will translate it to {translatedLanguage}. Please return only the translated question.'\n",
    "\n",
    "totalNumOfQuestions = len(devDataset)\n",
    "percent = int(totalNumOfQuestions * 0.1)  # Calculate 1% of the total tables\n",
    "\n",
    "# Iterate over each questionInfo in devDataset\n",
    "for index, questionInfo in enumerate(devDataset, start =1):\n",
    "    # Extract the db_id from the questionInfo\n",
    "    dbId = questionInfo['db_id']\n",
    "\n",
    "    # Retrieve table and column information for the current dbId\n",
    "    listWithTableAndColumnInfo = returnTableAndColumnInfoForDbId(dictWithTablesData, dbId, columnNameAttribute = 'column_names')\n",
    "    dictWithSchemaInfo = createSchemaInfoDict(listWithTableAndColumnInfo)\n",
    "\n",
    "    # Extract the original question from questionInfo and append it to listWithOriginalQuestionPerDbId\n",
    "    question = questionInfo['question']\n",
    "    \n",
    "    prompt = createTheDesiredPromtForQuestionsTranslation(question, dictWithSchemaInfo, language=translatedLanguage)\n",
    "    # Translate the question \n",
    "    questionTranslated = removeTextInParentheses(gptTranslateInfo(systemContent, prompt))\n",
    "\n",
    "    # tokenize the question\n",
    "    tokenizedQuestion = tokenizeSentence(questionTranslated)\n",
    "\n",
    "    # Update questionInfo with the translated question and its tokenized form\n",
    "    questionInfo['question'] = questionTranslated\n",
    "    questionInfo['question_toks'] = tokenizedQuestion\n",
    "    \n",
    "    if index % percent == 0:\n",
    "        print(f\"{index}/{totalNumOfQuestions} of questions have been examined.\")"
   ]
  },
  {
   "cell_type": "code",
   "execution_count": 17,
   "metadata": {},
   "outputs": [
    {
     "name": "stdout",
     "output_type": "stream",
     "text": [
      "JSON data written to MachineTranslated\\English\\dev.json\n"
     ]
    }
   ],
   "source": [
    "#Save the updated dev.json\n",
    "writeJsonToFile(devDataset, f'MachineTranslated\\{translatedLanguage}\\dev.json')"
   ]
  },
  {
   "cell_type": "code",
   "execution_count": null,
   "metadata": {},
   "outputs": [],
   "source": []
  }
 ],
 "metadata": {
  "kernelspec": {
   "display_name": "base",
   "language": "python",
   "name": "python3"
  },
  "language_info": {
   "codemirror_mode": {
    "name": "ipython",
    "version": 3
   },
   "file_extension": ".py",
   "mimetype": "text/x-python",
   "name": "python",
   "nbconvert_exporter": "python",
   "pygments_lexer": "ipython3",
   "version": "3.10.9"
  }
 },
 "nbformat": 4,
 "nbformat_minor": 2
}
