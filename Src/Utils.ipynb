{
 "cells": [
  {
   "cell_type": "code",
   "execution_count": 1,
   "metadata": {},
   "outputs": [],
   "source": [
    "import json\n",
    "\n",
    "# Define a function to load JSON data from a file\n",
    "def loadJson(filename):\n",
    "    # Open the specified file in read mode, specifying utf-8 encoding\n",
    "    with open(filename, 'r', encoding='utf-8') as file:\n",
    "        # Load the JSON data from the file into a Python dictionary\n",
    "        data = json.load(file)\n",
    "    # Return the loaded data\n",
    "    return data"
   ]
  },
  {
   "cell_type": "code",
   "execution_count": null,
   "metadata": {},
   "outputs": [],
   "source": [
    "def writeJsonToFile(data, filePath, indent=4):\n",
    "    with open(filePath, \"w\", encoding=\"utf-8\") as jsonFile:\n",
    "        json.dump(data, jsonFile, ensure_ascii=False, indent=indent)\n",
    "\n",
    "    print(\"JSON data written to\", filePath)"
   ]
  },
  {
   "cell_type": "code",
   "execution_count": null,
   "metadata": {},
   "outputs": [],
   "source": [
    "import openai\n",
    "\n",
    "def gptTranslateInfo(systemContent, inputInfo): \n",
    "    openai.api_base = 'https://pta-nbg-poc1.openai.azure.com/'\n",
    "    openai.api_key = '89423897cfd94a89838586e836d26690'\n",
    "    deployment_name = 'got-35-turbo1'\n",
    "    openai.api_type = 'azure'\n",
    "    openai.api_version = '2023-03-15-preview' # this may change in the future\n",
    "\n",
    "    # systemContent = '''I will give you english column names from tables in english and you will translate it in greek. \n",
    "    # Please return only the translated column.'''\n",
    "\n",
    "    # inputInfo = '''Translate the column \"assets in million\" to greek to fit the context of the table:\n",
    "    # Table: company\n",
    "    # Columns: company id, name, headquarters, industry, sales in million, assets in million'''\n",
    "    try:\n",
    "        response = openai.ChatCompletion.create(\n",
    "            engine=deployment_name, # The deployment name you chose when you deployed the GPT-3.5-Turbo or GPT-4 model.\n",
    "            temperature=0.3,\n",
    "            messages=[\n",
    "                {\"role\": \"system\", \"content\": systemContent},\n",
    "                {\"role\": \"user\", \"content\": inputInfo}\n",
    "            ]\n",
    "        )\n",
    "        return response['choices'][0]['message']['content']\n",
    "    except KeyError:\n",
    "        return \"\""
   ]
  },
  {
   "cell_type": "code",
   "execution_count": null,
   "metadata": {},
   "outputs": [],
   "source": [
    "import re\n",
    "\n",
    "def removeTextInParentheses(inputString):\n",
    "    # Define a regex pattern to match text within parentheses\n",
    "    pattern = r'\\([^)]*\\)'\n",
    "    \n",
    "    # Use re.sub() to replace the matched pattern with an empty string\n",
    "    outputString = re.sub(pattern, '', inputString)\n",
    "    \n",
    "    return outputString"
   ]
  },
  {
   "cell_type": "code",
   "execution_count": null,
   "metadata": {},
   "outputs": [],
   "source": [
    "def createTableDict(database, tableNameAttribute = 'table_names_translated'):\n",
    "    dictWithTables = {}\n",
    "    # Extract table names from the database schema (assuming they are stored in 'table_names')\n",
    "    tablesNames = database[tableNameAttribute]\n",
    "    \n",
    "    # Iterate over the table names and assign each a unique index as the key in the dictionary\n",
    "    for index, tableName in enumerate(tablesNames):\n",
    "        dictWithTables[index] = tableName\n",
    "    \n",
    "    return dictWithTables"
   ]
  },
  {
   "cell_type": "code",
   "execution_count": null,
   "metadata": {},
   "outputs": [],
   "source": [
    "def returnTableAndColumnInfoForDbId(dictWithTablesData, dbId, columnNameAttribute = 'column_names_translated'):\n",
    "    tableNameAttribute = ''\n",
    "    if 'translated' in columnNameAttribute:\n",
    "        tableNameAttribute = 'table_names_translated'\n",
    "    else:\n",
    "        tableNameAttribute = 'table_names'\n",
    "\n",
    "    # Retrieve the database schema corresponding to the given dbId\n",
    "    database = dictWithTablesData[dbId]\n",
    "    # Create a dictionary of tables with their indices as keys\n",
    "    dictWithTables = createTableDict(database, tableNameAttribute)\n",
    "\n",
    "    # Initialize a list to store table and column information\n",
    "    listWithTableAndColumnInfo = []\n",
    "\n",
    "    # Iterate over the column information in the database schema\n",
    "    for index, columnName in database[columnNameAttribute]:\n",
    "        # Check if the column index is valid (-1 indicates unknown)\n",
    "        if index != -1:\n",
    "            # Retrieve the table name corresponding to the index from the dictionary\n",
    "            tableName = dictWithTables[index]\n",
    "            # Append the table name and column name to the list\n",
    "            listWithTableAndColumnInfo.append([tableName, columnName])\n",
    "\n",
    "    return listWithTableAndColumnInfo"
   ]
  },
  {
   "cell_type": "code",
   "execution_count": null,
   "metadata": {},
   "outputs": [],
   "source": [
    "def createSchemaInfoDict(listWithTableAndColumnInfo):\n",
    "    # Create an empty dictionary to store table names as keys and corresponding column names as values.\n",
    "    dictWithSchemaInfo = {}\n",
    "\n",
    "    # Iterate through pairs of table names and column names.\n",
    "    for tableName, columnName in listWithTableAndColumnInfo:\n",
    "        # Check if both the table name and column name are not special values.\n",
    "        if tableName != -1 and columnName != '*':\n",
    "            # Check if the table name is not already in the dictionary.\n",
    "            if tableName not in dictWithSchemaInfo.keys():\n",
    "                # If not, initialize the entry with a list containing the current column name.\n",
    "                dictWithSchemaInfo[tableName] = [columnName]\n",
    "            else:\n",
    "                # If the table name is already in the dictionary, append the current column name to its list of column names.\n",
    "                dictWithSchemaInfo[tableName].append(columnName)\n",
    "    return dictWithSchemaInfo"
   ]
  },
  {
   "cell_type": "code",
   "execution_count": null,
   "metadata": {},
   "outputs": [],
   "source": [
    "def createTheDesiredPromtForQuestionsTranslation(question, dictWithSchemaInfo, language='Greek'):\n",
    "    infoString = \"\"\n",
    "\n",
    "    for tableName, columnNames in dictWithSchemaInfo.items():\n",
    "        infoString += f\"Table: {tableName}\\n\"\n",
    "        infoString += f\"Columns: {', '.join(columnNames)}\\n\"\n",
    "    \n",
    "    return f'''Translate the question \"{question}\" to {language}. You can only use keywords provided below:\\n{infoString}'''"
   ]
  },
  {
   "cell_type": "code",
   "execution_count": null,
   "metadata": {},
   "outputs": [],
   "source": [
    "import nltk\n",
    "\n",
    "def tokenizeSentence(sentence):\n",
    "    # Tokenize the input sentence using nltk.word_tokenize()\n",
    "    tokens = nltk.word_tokenize(sentence)\n",
    "    return tokens"
   ]
  }
 ],
 "metadata": {
  "kernelspec": {
   "display_name": "base",
   "language": "python",
   "name": "python3"
  },
  "language_info": {
   "codemirror_mode": {
    "name": "ipython",
    "version": 3
   },
   "file_extension": ".py",
   "mimetype": "text/x-python",
   "name": "python",
   "nbconvert_exporter": "python",
   "pygments_lexer": "ipython3",
   "version": "3.10.9"
  }
 },
 "nbformat": 4,
 "nbformat_minor": 2
}
